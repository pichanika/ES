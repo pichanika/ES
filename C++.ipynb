{
  "nbformat": 4,
  "nbformat_minor": 0,
  "metadata": {
    "colab": {
      "provenance": [],
      "toc_visible": true,
      "authorship_tag": "ABX9TyMIEkUvlzUWkPIQ447Ma2sq",
      "include_colab_link": true
    },
    "kernelspec": {
      "name": "python3",
      "display_name": "Python 3"
    },
    "language_info": {
      "name": "python"
    }
  },
  "cells": [
    {
      "cell_type": "markdown",
      "metadata": {
        "id": "view-in-github",
        "colab_type": "text"
      },
      "source": [
        "<a href=\"https://colab.research.google.com/github/pichanika/ES/blob/main/C%2B%2B.ipynb\" target=\"_parent\"><img src=\"https://colab.research.google.com/assets/colab-badge.svg\" alt=\"Open In Colab\"/></a>"
      ]
    },
    {
      "cell_type": "markdown",
      "source": [
        "# **01-Pass by Value  vs  Pass by reference**"
      ],
      "metadata": {
        "id": "yAS3rSYuFCws"
      }
    },
    {
      "cell_type": "markdown",
      "source": [
        "**Pass by Value** ข้อมูลเข้าไปในฟังก์ชัน\n",
        "\n",
        "> คือ การ \"ส่งสำเนา\" ​การแก้ไขค่าในฟังก์ชัน ไม่กระทบ ตัวแปรต้นฉบับข้างนอก\n",
        "​เหมือนถ่ายเอกสารให้เพื่อนไปแก้ ต้นฉบับของเรายังเหมือนเดิม\n",
        "\n",
        "\n",
        "\n",
        "\n",
        "**​Pass by Reference**  (ใช้เครื่องหมาย &)\n",
        "\n",
        "> คือ การ \"ส่งตัวจริง\" เข้าไปในฟังก์ชัน​การแก้ไขค่าในฟังก์ชัน กระทบ ตัวแปรต้นฉบับโดยตรง\n",
        "​เหมือนยื่นเอกสารตัวจริงให้เพื่อนแก้ เพื่อนขีดเขียนอะไรลงไป ของเราก็เปลี่ยนตามนั้น\n",
        "\n",
        "\n",
        "\n",
        "\n",
        "\n",
        "\n"
      ],
      "metadata": {
        "id": "95CPY6IP4DN7"
      }
    },
    {
      "cell_type": "markdown",
      "source": [
        "#**02- Pass by Value**"
      ],
      "metadata": {
        "id": "MCg5SvXPX9eq"
      }
    },
    {
      "cell_type": "code",
      "source": [
        "#ตัวอย่างการ Pass by Value\n",
        "\n",
        "%%writefile main.cpp\n",
        "\n",
        "#include <iostream>\n",
        "\n",
        "using namespace std;  //แจ้งคอมไพเลอร์ว่าขอใช้ทุกอย่างที่อยู่ใน namespace ที่ชื่อว่า std\n",
        "\n",
        "void demo(int v) {    // parameter v: pass by value\n",
        "    cout << \"ในฟังชันก์ demo()\" << endl;\n",
        "    cout << \"v = \" << v << endl;\n",
        "\n",
        "    v = v + 10;\n",
        "    cout << \"ในฟังชันก์ demo()--หลังจากปรับค่า values \" << endl;\n",
        "    cout << \"v = \" << v << endl;\n",
        "}\n",
        "\n",
        "int main() {\n",
        "    int v = 7;\n",
        "    cout << \"ในฟังชันก์  main() \" << endl;\n",
        "    cout << \"v = \" << v << endl;\n",
        "\n",
        "    demo(v);\n",
        "    cout << \"ในฟังชันก์  main()--หลังจากเรียก ฟังชันก์ demo()\" << endl;\n",
        "    cout << \"v = \" << v << endl;  // สังเกตเมื่อกลับมา ฟังชันก์ main ค่า v ไม่เปลี่ยนแปลง\n",
        "\n",
        "    return 0;\n",
        "}"
      ],
      "metadata": {
        "colab": {
          "base_uri": "https://localhost:8080/"
        },
        "id": "TbSzYBni8FdM",
        "outputId": "80c34f7e-f405-4ac3-9000-009f3cf86df0"
      },
      "execution_count": 43,
      "outputs": [
        {
          "output_type": "stream",
          "name": "stdout",
          "text": [
            "Overwriting main.cpp\n"
          ]
        }
      ]
    },
    {
      "cell_type": "code",
      "source": [
        "!g++ main.cpp -o main\n",
        "!./main"
      ],
      "metadata": {
        "colab": {
          "base_uri": "https://localhost:8080/"
        },
        "id": "jAC0P2ty-f-r",
        "outputId": "ba710320-0823-427f-8d84-db0f7c419c7c"
      },
      "execution_count": 44,
      "outputs": [
        {
          "output_type": "stream",
          "name": "stdout",
          "text": [
            "ในฟังชันก์  main() \n",
            "v = 7\n",
            "ในฟังชันก์ demo()\n",
            "v = 7\n",
            "ในฟังชันก์ demo()--หลังจากปรับค่า values \n",
            "v = 17\n",
            "ในฟังชันก์  main()--หลังจากเรียก ฟังชันก์ demo()\n",
            "v = 7\n"
          ]
        }
      ]
    },
    {
      "cell_type": "markdown",
      "source": [
        "จากตัวอย่าง Pass by Value จะเห็นว่า ค่าที่ส่งเข้าไปในฟังชั่นจะมีการแปลี่ยนแปลงแค่เพียงในฟังชั่นเท่านั้น  เมื่อกลับมาที่ Main ค่าตัวแปรยังคงเป็นค่าเดิม"
      ],
      "metadata": {
        "id": "xqJ9subwBYqc"
      }
    },
    {
      "cell_type": "markdown",
      "source": [
        "# **03-Pass by reference**"
      ],
      "metadata": {
        "id": "WZeR5B4tYg7g"
      }
    },
    {
      "cell_type": "markdown",
      "source": [],
      "metadata": {
        "id": "EIraWj8dby1j"
      }
    },
    {
      "cell_type": "code",
      "source": [
        "#ตัวอย่างการ pass by reference\n",
        "\n",
        "%%writefile main.cpp\n",
        "\n",
        "#include <iostream>\n",
        "\n",
        "using namespace std;   //แจ้งคอมไพเลอร์ว่าขอใช้ทุกอย่างที่อยู่ใน namespace ที่ชื่อว่า std\n",
        "\n",
        "void demo(int &r) {   // parameter r: pass by reference    สังเกตว่ามี  &\n",
        "    cout << \"ในฟังชันก์ demo()\" << endl;\n",
        "    cout << \"r = \" << r << endl;\n",
        "    r = r + 10;\n",
        "    cout << \"ในฟังชันก์ demo()--หลังจากปรับค่า values \" << endl;\n",
        "    cout << \"r = \" << r << endl;\n",
        "}\n",
        "\n",
        "int main() {\n",
        "    int r = 7;\n",
        "    cout << \"ในฟังชันก์  main() \" << endl;\n",
        "    cout << \"r = \" << r << endl;\n",
        "\n",
        "    demo(r);\n",
        "    cout << \"ในฟังชันก์  main()--หลังจากเรียก ฟังชันก์ demo()\" << endl;\n",
        "    cout << \"r = \" << r << endl;  // สังเกตเมื่อกลับมา ฟังชันก์ main ค่า v เปลี่ยนแปลงไป\n",
        "\n",
        "    return 0;\n",
        "}"
      ],
      "metadata": {
        "colab": {
          "base_uri": "https://localhost:8080/"
        },
        "id": "vTwKTZMbZYi8",
        "outputId": "3146376f-02f8-42e4-a7be-591ec900ef91"
      },
      "execution_count": 46,
      "outputs": [
        {
          "output_type": "stream",
          "name": "stdout",
          "text": [
            "Overwriting main.cpp\n"
          ]
        }
      ]
    },
    {
      "cell_type": "code",
      "source": [
        "!g++ main.cpp -o main\n",
        "!./main"
      ],
      "metadata": {
        "colab": {
          "base_uri": "https://localhost:8080/"
        },
        "id": "GOqSMTRHaS07",
        "outputId": "e8c18e19-1275-428b-e634-3ebe033f1ed8"
      },
      "execution_count": 47,
      "outputs": [
        {
          "output_type": "stream",
          "name": "stdout",
          "text": [
            "ในฟังชันก์  main() \n",
            "r = 7\n",
            "ในฟังชันก์ demo()\n",
            "r = 7\n",
            "ในฟังชันก์ demo()--หลังจากปรับค่า values \n",
            "r = 17\n",
            "ในฟังชันก์  main()--หลังจากเรียก ฟังชันก์ demo()\n",
            "r = 17\n"
          ]
        }
      ]
    },
    {
      "cell_type": "markdown",
      "source": [
        "# **04-เปรียบเทียบ Pass by Value  vs  Pass by reference**"
      ],
      "metadata": {
        "id": "TnmVOHykbqi7"
      }
    },
    {
      "cell_type": "code",
      "source": [
        "#ตัวอย่างการ เปรียบเทียบ Pass by Value vs Pass by reference\n",
        "\n",
        "%%writefile main.cpp\n",
        "\n",
        "#include <iostream>\n",
        "\n",
        "using namespace std;\n",
        "\n",
        "void demo(int v, int &r) {\n",
        "    // parameter v: pass by value\n",
        "    // parameter r: pass by reference\n",
        "    cout << \"inside demo()\" << endl;\n",
        "    cout << \"v = \" << v << \", address = \" << &v << endl;\n",
        "    cout << \"r = \" << r << \", address = \" << &r << endl;\n",
        "    v = v + 10;\n",
        "    r = r + 10;\n",
        "    cout << \"inside demo()--after changing values \" << endl;\n",
        "    cout << \"v = \" << v << \", address = \" << &v << endl;\n",
        "    cout << \"r = \" << r << \", address = \" << &r << endl;\n",
        "}\n",
        "\n",
        "int main() {\n",
        "    int v = 7;\n",
        "    int r = 7;\n",
        "    cout << \"inside main() \" << endl;\n",
        "    cout << \"v = \" << v << \", address = \" << &v << endl;\n",
        "    cout << \"r = \" << r << \", address = \" << &r << endl;\n",
        "\n",
        "    demo(v, r);\n",
        "    cout << \"inside main()--after calling demo()\" << endl;\n",
        "    cout << \"v = \" << v << \", address = \" << &v << endl;\n",
        "    cout << \"r = \" << r << \", address = \" << &r << endl;\n",
        "\n",
        "    return 0;\n",
        "}"
      ],
      "metadata": {
        "colab": {
          "base_uri": "https://localhost:8080/"
        },
        "id": "ljUVpB7y5X8U",
        "outputId": "37bdd673-5d27-4839-8f5c-77a878827ad3"
      },
      "execution_count": 41,
      "outputs": [
        {
          "output_type": "stream",
          "name": "stdout",
          "text": [
            "Overwriting main.cpp\n"
          ]
        }
      ]
    },
    {
      "cell_type": "code",
      "source": [
        "!g++ main.cpp -o main\n",
        "!./main"
      ],
      "metadata": {
        "id": "zjD0lt51yNi8",
        "colab": {
          "base_uri": "https://localhost:8080/"
        },
        "outputId": "64ae03e3-4518-4d8a-d179-9487ea138e0f"
      },
      "execution_count": 42,
      "outputs": [
        {
          "output_type": "stream",
          "name": "stdout",
          "text": [
            "inside main() \n",
            "v = 7, address = 0x7ffc01dc8c80\n",
            "r = 7, address = 0x7ffc01dc8c84\n",
            "inside demo()\n",
            "v = 7, address = 0x7ffc01dc8c6c\n",
            "r = 7, address = 0x7ffc01dc8c84\n",
            "inside demo()--after changing values \n",
            "v = 17, address = 0x7ffc01dc8c6c\n",
            "r = 17, address = 0x7ffc01dc8c84\n",
            "inside main()--after calling demo()\n",
            "v = 7, address = 0x7ffc01dc8c80\n",
            "r = 17, address = 0x7ffc01dc8c84\n"
          ]
        }
      ]
    },
    {
      "cell_type": "markdown",
      "source": [
        "#**05-การส่งค่าผ่าน อาร์เรย์ (Array) Pass by reference**"
      ],
      "metadata": {
        "id": "UywMrkhadWUa"
      }
    },
    {
      "cell_type": "markdown",
      "source": [
        "การส่งผ่านค่า สำหรับ อาร์เรย์ (Array) ใช้หลักการ by reference ซึ่งจะ ไม่คัดลอกข้อมูลทั้งหมด ในอาร์เรย์ส่งเข้าไปในฟังก์ชัน เพราะอาจมีข้อมูลขนาดใหญ่และทำให้โปรแกรมทำงานช้าลง\n"
      ],
      "metadata": {
        "id": "uFrryiJIeAHR"
      }
    },
    {
      "cell_type": "code",
      "source": [
        "%%writefile main.cpp"
      ],
      "metadata": {
        "id": "lfwep0q6GOJO",
        "colab": {
          "base_uri": "https://localhost:8080/"
        },
        "outputId": "2cbaa588-5230-4fe2-a9f0-604bb0f16590"
      },
      "execution_count": null,
      "outputs": [
        {
          "output_type": "stream",
          "name": "stdout",
          "text": [
            "Overwriting main.cpp\n"
          ]
        }
      ]
    },
    {
      "cell_type": "code",
      "source": [
        "# @title\n",
        "!g++ main.cpp -o main\n",
        "!./main"
      ],
      "metadata": {
        "id": "xk6KKZeSdjOW"
      },
      "execution_count": null,
      "outputs": []
    }
  ]
}